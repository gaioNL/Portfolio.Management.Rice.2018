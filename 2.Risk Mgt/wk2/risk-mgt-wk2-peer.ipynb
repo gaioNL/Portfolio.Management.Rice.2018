{
 "cells": [
  {
   "cell_type": "code",
   "execution_count": 1,
   "metadata": {
    "collapsed": true
   },
   "outputs": [],
   "source": [
    "import numpy as np\n",
    "import math"
   ]
  },
  {
   "cell_type": "markdown",
   "metadata": {},
   "source": [
    "Probability\tReturn on A\tReturn on B\n",
    "\n",
    "30%\t-10%\t10%\n",
    "\n",
    "40%\t5%\t20%\n",
    "\n",
    "30%\t30%\t30%\n",
    "\n",
    "Compute the covariance between A and B. \n",
    "\n",
    "Round off your final answer to two digits after the decimal point (such as 5.55)."
   ]
  },
  {
   "cell_type": "code",
   "execution_count": 10,
   "metadata": {},
   "outputs": [
    {
     "name": "stdout",
     "output_type": "stream",
     "text": [
      "0.08 0.2 0.011999999999999997\n"
     ]
    }
   ],
   "source": [
    "erA = 0.3 * -0.1 + 0.4 * 0.05 + 0.3 * 0.3\n",
    "erB = 0.3 * 0.1 + 0.4 * 0.2 + 0.3 * 0.3\n",
    "covP = 0.3 * (-0.1 - erA) * (0.1 -erB) + 0.4 * (0.05 -erA) * (0.2-erB) + 0.3 * (0.3 - erA) * (0.3-erB)\n",
    "print(erA,erB,covP)"
   ]
  },
  {
   "cell_type": "markdown",
   "metadata": {},
   "source": [
    "Consider the following distribution of returns:\n",
    "\n",
    "Probability\tReturn on A\tReturn on B\n",
    "\n",
    "30%\t-10%\t10%\n",
    "\n",
    "40%\t5%\t20%\n",
    "\n",
    "30%\t30%\t30%\n",
    "\n",
    "Compute the correlation coefficient between A and B.\n",
    "\n",
    "Round off your final answer to two digits after the decimal point (such as 5.55)"
   ]
  },
  {
   "cell_type": "code",
   "execution_count": 11,
   "metadata": {},
   "outputs": [
    {
     "name": "stdout",
     "output_type": "stream",
     "text": [
      "0.15684387141358122 0.07745966692414832 0.9877295966495896\n"
     ]
    }
   ],
   "source": [
    "stA = math.sqrt( 0.3 * (-0.1 - erA)**2 + 0.4 * (0.05 -erA)**2 + 0.3 * (0.3 - erA)**2)\n",
    "stB = math.sqrt(0.3 * (0.1 -erB)**2 + 0.4 *(0.2-erB)**2 + 0.3 *(0.3-erB)**2 )\n",
    "corrAB = covP/(stA * stB)\n",
    "print(stA, stB,corrAB)"
   ]
  },
  {
   "cell_type": "markdown",
   "metadata": {},
   "source": [
    "A portfolio consists of 120 shares of Jones stock, which sells for $50 per share, \n",
    "\n",
    "and 150 shares of Rice stock, which sells for $20 per share. \n",
    "\n",
    "What are the weights of the two stocks in this portfolio?\n",
    "\n",
    "\n",
    "For the Jones stock: wJ=66.67% and for the Rice stock: wR=33.33%\n",
    "\n",
    "\n",
    "For the Jones stock: wJ=50% and for the Rice stock: wR=50%\n",
    "\n",
    "\n",
    "For the Jones stock: wJ=70% and for the Rice stock: wR=30%\n",
    "\n",
    "\n",
    "For the Jones stock: wJ=33.33% and for the Rice stock: wR=33.33%"
   ]
  },
  {
   "cell_type": "code",
   "execution_count": 5,
   "metadata": {},
   "outputs": [
    {
     "name": "stdout",
     "output_type": "stream",
     "text": [
      "0.6666666666666666\n"
     ]
    }
   ],
   "source": [
    "print ((120*50)/(120*50+150*20))"
   ]
  },
  {
   "cell_type": "code",
   "execution_count": 6,
   "metadata": {},
   "outputs": [
    {
     "name": "stdout",
     "output_type": "stream",
     "text": [
      "0.3333333333333333\n"
     ]
    }
   ],
   "source": [
    "print ((150*20)/(120*50+150*20))"
   ]
  },
  {
   "cell_type": "markdown",
   "metadata": {},
   "source": [
    "Jones stock has an expected return of 12 percent, \n",
    "\n",
    "and a standard deviation of 9 percent per year. \n",
    "\n",
    "Rice stock has an expected return of 18 percent, \n",
    "\n",
    "and a standard deviation of 25 percent per year. \n",
    "\n",
    "What is the expected return on a portfolio that consists of 30 percent Jones and 70 percent Rice? \n",
    "\n",
    "Round off your final answer to two digits after the decimal point. \n",
    "\n",
    "State your answer as a percentage rate (such as 5.55)"
   ]
  },
  {
   "cell_type": "code",
   "execution_count": 7,
   "metadata": {},
   "outputs": [
    {
     "name": "stdout",
     "output_type": "stream",
     "text": [
      "0.162\n"
     ]
    }
   ],
   "source": [
    "print(0.3 * 0.12 + 0.7 * 0.18)"
   ]
  },
  {
   "cell_type": "markdown",
   "metadata": {},
   "source": [
    "If the correlation between the returns of Jones and Rice is 0.2, \n",
    "\n",
    "what is the return volatility of a portfolio described in the previous question? \n",
    "\n",
    "Round off your final answer to two digits after the decimal point (such as 5.55)\n",
    "\n",
    "Portfolio Variance = w2A*σ2(RA) + w2B*σ2(RB) + 2*(wA)*(wB)*Cov(RA, RB)"
   ]
  },
  {
   "cell_type": "code",
   "execution_count": 8,
   "metadata": {},
   "outputs": [
    {
     "name": "stdout",
     "output_type": "stream",
     "text": [
      "0.1823293722909175\n"
     ]
    }
   ],
   "source": [
    "print (math.sqrt(0.3**2 * 0.09**2 + 0.7**2 * 0.25**2 + 2 * 0.3 * 0.7 *0.2 * 0.25*0.09 ) )"
   ]
  },
  {
   "cell_type": "code",
   "execution_count": 1,
   "metadata": {
    "collapsed": true
   },
   "outputs": [],
   "source": [
    "import math"
   ]
  },
  {
   "cell_type": "code",
   "execution_count": 2,
   "metadata": {},
   "outputs": [
    {
     "name": "stdout",
     "output_type": "stream",
     "text": [
      "0.19484009512931366\n"
     ]
    }
   ],
   "source": [
    "print (math.sqrt(0.5**2 * 0.2298**2 + 0.5**2 * 0.243**2 + 2 * 0.5 * 0.5 * 0.2298 * 0.243 * 0.3581))"
   ]
  },
  {
   "cell_type": "code",
   "execution_count": 1,
   "metadata": {
    "collapsed": true
   },
   "outputs": [],
   "source": [
    "import numpy as np"
   ]
  },
  {
   "cell_type": "code",
   "execution_count": 2,
   "metadata": {},
   "outputs": [
    {
     "name": "stdout",
     "output_type": "stream",
     "text": [
      "[ 0.    0.01  0.02  0.03  0.04  0.05  0.06  0.07  0.08  0.09  0.1   0.11\n",
      "  0.12  0.13  0.14  0.15  0.16  0.17  0.18  0.19  0.2   0.21  0.22  0.23\n",
      "  0.24  0.25  0.26  0.27  0.28  0.29  0.3   0.31  0.32  0.33  0.34  0.35\n",
      "  0.36  0.37  0.38  0.39  0.4   0.41  0.42  0.43  0.44  0.45  0.46  0.47\n",
      "  0.48  0.49  0.5   0.51  0.52  0.53  0.54  0.55  0.56  0.57  0.58  0.59\n",
      "  0.6   0.61  0.62  0.63  0.64  0.65  0.66  0.67  0.68  0.69  0.7   0.71\n",
      "  0.72  0.73  0.74  0.75  0.76  0.77  0.78  0.79  0.8   0.81  0.82  0.83\n",
      "  0.84  0.85  0.86  0.87  0.88  0.89  0.9   0.91  0.92  0.93  0.94  0.95\n",
      "  0.96  0.97  0.98  0.99  1.  ]\n"
     ]
    }
   ],
   "source": [
    "w_l = []\n",
    "for i in range(101):\n",
    "    w_l.append(i * 0.01)\n",
    "w = np.array(w_l)\n",
    "print(w)"
   ]
  },
  {
   "cell_type": "code",
   "execution_count": 3,
   "metadata": {},
   "outputs": [
    {
     "name": "stdout",
     "output_type": "stream",
     "text": [
      "[ 0.1589    0.158808  0.158716  0.158624  0.158532  0.15844   0.158348\n",
      "  0.158256  0.158164  0.158072  0.15798   0.157888  0.157796  0.157704\n",
      "  0.157612  0.15752   0.157428  0.157336  0.157244  0.157152  0.15706\n",
      "  0.156968  0.156876  0.156784  0.156692  0.1566    0.156508  0.156416\n",
      "  0.156324  0.156232  0.15614   0.156048  0.155956  0.155864  0.155772\n",
      "  0.15568   0.155588  0.155496  0.155404  0.155312  0.15522   0.155128\n",
      "  0.155036  0.154944  0.154852  0.15476   0.154668  0.154576  0.154484\n",
      "  0.154392  0.1543    0.154208  0.154116  0.154024  0.153932  0.15384\n",
      "  0.153748  0.153656  0.153564  0.153472  0.15338   0.153288  0.153196\n",
      "  0.153104  0.153012  0.15292   0.152828  0.152736  0.152644  0.152552\n",
      "  0.15246   0.152368  0.152276  0.152184  0.152092  0.152     0.151908\n",
      "  0.151816  0.151724  0.151632  0.15154   0.151448  0.151356  0.151264\n",
      "  0.151172  0.15108   0.150988  0.150896  0.150804  0.150712  0.15062\n",
      "  0.150528  0.150436  0.150344  0.150252  0.15016   0.150068  0.149976\n",
      "  0.149884  0.149792  0.1497  ]\n",
      "[ 0.243       0.24140245  0.23982422  0.2382657   0.23672728  0.23520935\n",
      "  0.23371231  0.23223657  0.23078253  0.2293506   0.22794121  0.22655477\n",
      "  0.22519171  0.22385245  0.22253743  0.22124708  0.21998182  0.2187421\n",
      "  0.21752835  0.21634102  0.21518053  0.21404732  0.21294183  0.2118645\n",
      "  0.21081575  0.20979601  0.20880571  0.20784528  0.20691511  0.20601563\n",
      "  0.20514724  0.20431034  0.20350531  0.20273253  0.20199238  0.20128521\n",
      "  0.20061137  0.1999712   0.19936502  0.19879315  0.19825588  0.19775349\n",
      "  0.19728625  0.19685441  0.19645821  0.19609786  0.19577355  0.19548547\n",
      "  0.19523378  0.19501861  0.1948401   0.19469833  0.19459339  0.19452535\n",
      "  0.19449423  0.19450006  0.19454283  0.19462252  0.19473909  0.19489246\n",
      "  0.19508255  0.19530925  0.19557244  0.19587197  0.19620767  0.19657936\n",
      "  0.19698683  0.19742987  0.19790822  0.19842165  0.19896987  0.1995526\n",
      "  0.20016953  0.20082036  0.20150475  0.20222237  0.20297286  0.20375585\n",
      "  0.20457098  0.20541786  0.20629611  0.20720531  0.20814507  0.20911498\n",
      "  0.21011461  0.21114355  0.21220136  0.21328762  0.21440191  0.21554377\n",
      "  0.21671278  0.21790849  0.21913048  0.22037831  0.22165153  0.22294971\n",
      "  0.22427243  0.22561924  0.22698973  0.22838345  0.2298    ]\n",
      "[ 0.243       0.24172719  0.24047094  0.23923151  0.23800916  0.23680416\n",
      "  0.23561677  0.23444725  0.23329589  0.23216294  0.23104869  0.22995339\n",
      "  0.22887733  0.22782078  0.226784    0.22576727  0.22477087  0.22379506\n",
      "  0.22284012  0.22190631  0.2209939   0.22010317  0.21923436  0.21838775\n",
      "  0.21756359  0.21676214  0.21598366  0.21522839  0.21449657  0.21378845\n",
      "  0.21310426  0.21244424  0.21180862  0.2111976   0.21061141  0.21005025\n",
      "  0.20951432  0.20900383  0.20851894  0.20805986  0.20762674  0.20721975\n",
      "  0.20683904  0.20648475  0.20615704  0.20585601  0.20558179  0.20533449\n",
      "  0.2051142   0.20492101  0.204755    0.20461623  0.20450476  0.20442063\n",
      "  0.20436388  0.20433453  0.20433259  0.20435807  0.20441094  0.2044912\n",
      "  0.2045988   0.20473371  0.20489588  0.20508523  0.20530169  0.20554517\n",
      "  0.20581559  0.20611283  0.20643678  0.20678731  0.20716429  0.20756757\n",
      "  0.20799701  0.20845243  0.20893367  0.20944056  0.2099729   0.2105305\n",
      "  0.21111316  0.21172068  0.21235284  0.21300943  0.21369021  0.21439495\n",
      "  0.21512343  0.2158754   0.21665062  0.21744884  0.2182698   0.21911325\n",
      "  0.21997893  0.22086658  0.22177594  0.22270673  0.2236587   0.22463158\n",
      "  0.22562508  0.22663895  0.22767291  0.22872668  0.2298    ]\n"
     ]
    }
   ],
   "source": [
    "er_UK=0.1589\n",
    "er_JP=0.1497\n",
    "std_UK=0.243\n",
    "std_JP=0.2298\n",
    "corr_UK_JP_1 = 0.3581\n",
    "corr_UK_JP_2 = 0.5\n",
    "\n",
    "er_PA = w * er_JP + (1-w) * er_UK\n",
    "er_PB = er_PA\n",
    "print (er_PA)\n",
    "\n",
    "#w2Aσ2(RA) + w2Bσ2(RB) + 2(wA)(wB)*Cov(RA, RB)\n",
    "std_PA = np.sqrt( np.power(w,2) * std_JP**2 + np.power(1-w,2) *  std_UK**2 \n",
    "                 + 2 * np.multiply(w,1-w) * std_JP * std_UK * corr_UK_JP_1 )\n",
    "print (std_PA)\n",
    "#w2Aσ2(RA) + w2Bσ2(RB) + 2(wA)(wB)*Cov(RA, RB)\n",
    "std_PB = np.sqrt( np.power(w,2) * std_JP**2 + np.power(1-w,2) *  std_UK**2 \n",
    "                 + 2 * np.multiply(w,1-w) * std_JP * std_UK * corr_UK_JP_2 )\n",
    "print (std_PB)"
   ]
  },
  {
   "cell_type": "code",
   "execution_count": 12,
   "metadata": {},
   "outputs": [
    {
     "data": {
      "image/png": "[encoded data removed]",
      "text/plain": [
       "<matplotlib.figure.Figure at 0x23a691f4278>"
      ]
     },
     "metadata": {},
     "output_type": "display_data"
    }
   ],
   "source": [
    "import matplotlib.pyplot as plt\n",
    "import matplotlib.ticker as ticker\n",
    "\n",
    "std_PA_1 = std_PA * 100\n",
    "std_PB_1 = std_PB * 100\n",
    "er_PA_1 = er_PA * 100\n",
    "er_PB_1 = er_PB * 100\n",
    "\n",
    "fig, ax = plt.subplots()\n",
    "plt.tight_layout()\n",
    "fig.subplots_adjust(left=0.15,top=0.9,bottom=0.15)\n",
    "ax.set_title('Mean-Variance Frontier UK-Japan Portfolios', fontsize=15)\n",
    "ax.set_xlabel('Volatility', fontsize=15)\n",
    "ax.set_ylabel('Expected Return' , fontsize=15)\n",
    "#ax.xaxis.set_major_formatter(ticker.PercentFormatter())\n",
    "#ax.yaxis.set_major_formatter(ticker.PercentFormatter())\n",
    "ax.xaxis.set_major_formatter(ticker.FormatStrFormatter('%.2f%%'))\n",
    "ax.yaxis.set_major_formatter(ticker.FormatStrFormatter('%.2f%%'))\n",
    "pointObjectsA = ax.plot(std_PA_1,er_PA_1 , 'ro',color = 'red', label='corr=0.3581')\n",
    "pointObjectsB = ax.plot(std_PB_1,er_PB_1 , 'ro', color = 'blue',label = 'corr=0.5')\n",
    "\n",
    "legend = ax.legend(loc='center right', shadow=True)\n",
    "frame = legend.get_frame()\n",
    "frame.set_facecolor('0.90')\n",
    "\n",
    "for label in legend.get_texts():\n",
    "    label.set_fontsize('large')\n",
    "\n",
    "for label in legend.get_lines():\n",
    "    label.set_linewidth(1.5)  # the legend line width\n",
    "    \n",
    "plt.show()\n",
    "fig.savefig('cg-portfolio-wk2-peer.pdf')\n",
    "plt.close(fig)"
   ]
  },
  {
   "cell_type": "code",
   "execution_count": null,
   "metadata": {
    "collapsed": true
   },
   "outputs": [],
   "source": []
  },
  {
   "cell_type": "code",
   "execution_count": null,
   "metadata": {
    "collapsed": true
   },
   "outputs": [],
   "source": []
  }
 ],
 "metadata": {
  "kernelspec": {
   "display_name": "Python 3",
   "language": "python",
   "name": "python3"
  },
  "language_info": {
   "codemirror_mode": {
    "name": "ipython",
    "version": 3
   },
   "file_extension": ".py",
   "mimetype": "text/x-python",
   "name": "python",
   "nbconvert_exporter": "python",
   "pygments_lexer": "ipython3",
   "version": "3.6.3"
  }
 },
 "nbformat": 4,
 "nbformat_minor": 2
}
