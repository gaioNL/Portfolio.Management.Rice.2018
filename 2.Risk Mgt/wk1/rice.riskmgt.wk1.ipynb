{
 "cells": [
  {
   "cell_type": "code",
   "execution_count": 1,
   "metadata": {
    "collapsed": true
   },
   "outputs": [],
   "source": [
    "import numpy as np"
   ]
  },
  {
   "cell_type": "markdown",
   "metadata": {},
   "source": [
    "Based on the following distribution of returns for stock A, compute the standard deviation for stock A. \n",
    "Round off our final answer to two digits after the decimal point. \n",
    "State your answer as a percentage rate (such as 5.55)\n",
    "\n",
    "Probability\tReturn on A\n",
    "\n",
    "30%\t10%\n",
    "\n",
    "40%\t5%\n",
    "\n",
    "30%\t30%"
   ]
  },
  {
   "cell_type": "code",
   "execution_count": 6,
   "metadata": {},
   "outputs": [
    {
     "name": "stdout",
     "output_type": "stream",
     "text": [
      "0.10677078252\n"
     ]
    }
   ],
   "source": [
    "pr = np.array([0.3,0.4,0.3])\n",
    "rt = np.array([0.1,0.05,0.3])\n",
    "er = np.dot(pr,rt)\n",
    "std = np.sqrt(np.dot(np.power(rt-er,2),pr))\n",
    "print (std)"
   ]
  },
  {
   "cell_type": "code",
   "execution_count": null,
   "metadata": {
    "collapsed": true
   },
   "outputs": [],
   "source": []
  }
 ],
 "metadata": {
  "kernelspec": {
   "display_name": "Python 3",
   "language": "python",
   "name": "python3"
  },
  "language_info": {
   "codemirror_mode": {
    "name": "ipython",
    "version": 3
   },
   "file_extension": ".py",
   "mimetype": "text/x-python",
   "name": "python",
   "nbconvert_exporter": "python",
   "pygments_lexer": "ipython3",
   "version": "3.6.3"
  }
 },
 "nbformat": 4,
 "nbformat_minor": 2
}
