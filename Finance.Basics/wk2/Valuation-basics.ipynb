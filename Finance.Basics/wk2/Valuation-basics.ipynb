{
 "cells": [
  {
   "cell_type": "code",
   "execution_count": 1,
   "metadata": {
    "collapsed": true
   },
   "outputs": [],
   "source": [
    "import numpy as np"
   ]
  },
  {
   "cell_type": "code",
   "execution_count": 7,
   "metadata": {
    "collapsed": true
   },
   "outputs": [],
   "source": [
    "def fv_compounding(pv,r,t):\n",
    "    #The formula for the FV of an investment earning compounding interest is:\n",
    "    #FV = I * ((1 + R) ^ T)\n",
    "    #where I is the initial investment amount, R is the interest rate and T is the number of years the investment will be held.\n",
    "    #Read more: Future Value (FV) https://www.investopedia.com/terms/f/futurevalue.asp#ixzz52rl9nPvg \n",
    "    return ( pv * ( np.power(1 + r ,t) ) )"
   ]
  },
  {
   "cell_type": "code",
   "execution_count": 8,
   "metadata": {
    "collapsed": true
   },
   "outputs": [],
   "source": [
    "def ACF(r,n):\n",
    "    return ( ( np.power(1 + r ,n) - 1) / r )"
   ]
  },
  {
   "cell_type": "code",
   "execution_count": 9,
   "metadata": {
    "collapsed": true
   },
   "outputs": [],
   "source": [
    "def ADF(r,n): \n",
    "    return ( ( 1 - np.power(1 + r ,-n)) / r )"
   ]
  },
  {
   "cell_type": "code",
   "execution_count": 10,
   "metadata": {},
   "outputs": [
    {
     "name": "stdout",
     "output_type": "stream",
     "text": [
      "620.921323059\n"
     ]
    }
   ],
   "source": [
    "print (1000/np.power(1 + 0.1 ,5))"
   ]
  },
  {
   "cell_type": "code",
   "execution_count": 11,
   "metadata": {
    "collapsed": true
   },
   "outputs": [],
   "source": [
    "def zc_bond_v0(face_v,r,t):\n",
    "    return(face_v/np.power(1+r,t))"
   ]
  },
  {
   "cell_type": "code",
   "execution_count": 41,
   "metadata": {},
   "outputs": [],
   "source": [
    "def c_bond_v0(face_v,cr,r,t):\n",
    "    B0 = 0\n",
    "    C = face_v * cr\n",
    "    for n in range(1,t):\n",
    "        B0 += C / np.power(1+r,n)\n",
    "    B0 += (C+face_v) / np.power(1+r,t)\n",
    "    return B0       "
   ]
  },
  {
   "cell_type": "code",
   "execution_count": 42,
   "metadata": {
    "collapsed": true
   },
   "outputs": [],
   "source": [
    "def appr_YTM(F,P,C,n):\n",
    "    return ((C+((F-P)/n))/((F+P)/2))    "
   ]
  },
  {
   "cell_type": "code",
   "execution_count": 50,
   "metadata": {
    "collapsed": true
   },
   "outputs": [],
   "source": [
    "def EAR(APR,m):\n",
    "    return (np.power(1 + APR/m,m) - 1)"
   ]
  },
  {
   "cell_type": "markdown",
   "metadata": {},
   "source": [
    "The price of a US government issued five year zero coupon bond, with a face value of $1000, is $744.09.\n",
    "What is the yield to maturity of the bond if the interest is compounded yearly? \n",
    "Round off your final answer to two digits after the decimal point. State your answer as a percentage rate (i.e. x.xx)"
   ]
  },
  {
   "cell_type": "code",
   "execution_count": 43,
   "metadata": {},
   "outputs": [
    {
     "name": "stdout",
     "output_type": "stream",
     "text": [
      "0.05869192530201996\n"
     ]
    }
   ],
   "source": [
    "print(appr_YTM(1000,744.09,0,5))"
   ]
  },
  {
   "cell_type": "code",
   "execution_count": 44,
   "metadata": {},
   "outputs": [
    {
     "name": "stdout",
     "output_type": "stream",
     "text": [
      "0.0609011163448\n"
     ]
    }
   ],
   "source": [
    "print(np.power(1000/744.09,1/5)-1)"
   ]
  },
  {
   "cell_type": "markdown",
   "metadata": {},
   "source": [
    "What is the market value of a 20-year bond with face value of $1000, which makes quarterly coupon payments at a coupon rate of 10%, if the required rate of return is 8% per year, compounded quarterly? \n",
    "Round off your final answer to three digits after the decimal point. State your answer as 'x.xxx'"
   ]
  },
  {
   "cell_type": "code",
   "execution_count": 46,
   "metadata": {},
   "outputs": [
    {
     "name": "stdout",
     "output_type": "stream",
     "text": [
      "1198.72256796\n"
     ]
    }
   ],
   "source": [
    "print(c_bond_v0(face_v=1000,cr=0.1/4,r=0.08/4,t=20*4))"
   ]
  },
  {
   "cell_type": "markdown",
   "metadata": {},
   "source": [
    "Consider a bond, which pays 80 in annual coupon, and has a face value of 1,000. \n",
    "What is its yield to maturity if the bond has 20 years remaining until maturity and currently selling for $1,200?"
   ]
  },
  {
   "cell_type": "code",
   "execution_count": 48,
   "metadata": {},
   "outputs": [
    {
     "name": "stdout",
     "output_type": "stream",
     "text": [
      "0.06363636363636363\n"
     ]
    }
   ],
   "source": [
    "print(appr_YTM(1000,1200,80,20))"
   ]
  },
  {
   "cell_type": "markdown",
   "metadata": {},
   "source": [
    "You have just purchased a newly issued 1,000 five-year Vanguard Company bond at par. \n",
    "This five-year bond pays 60 in semi-annual coupon payments (60 every six months). \n",
    "You are also considering the purchase of another Vanguard Company bond that pays 30 in semi-annual coupons and has six years remaining before maturity.\n",
    "This bond also has a face value of 1000. Both bonds make coupon payments semiannually.\n",
    "What is the yield-to-maturity on the five-year bond? State your answer as a percentage rate."
   ]
  },
  {
   "cell_type": "code",
   "execution_count": 49,
   "metadata": {},
   "outputs": [
    {
     "name": "stdout",
     "output_type": "stream",
     "text": [
      "0.12\n"
     ]
    }
   ],
   "source": [
    "print(appr_YTM(1000,1000,120,5))"
   ]
  },
  {
   "cell_type": "markdown",
   "metadata": {},
   "source": [
    "Refer to back to Question 5. \n",
    "What is the effective annual yield on the five-year bond? Round off your final answer to two digits after the decimal point. State your answer as a percentage rate (i.e 'x.xx')"
   ]
  },
  {
   "cell_type": "code",
   "execution_count": 52,
   "metadata": {},
   "outputs": [
    {
     "name": "stdout",
     "output_type": "stream",
     "text": [
      "0.1236\n"
     ]
    }
   ],
   "source": [
    "print (EAR(0.12,2))"
   ]
  },
  {
   "cell_type": "markdown",
   "metadata": {},
   "source": [
    "Refer back to Question 5. Assume that the five-year bond and the six-year bond have the\n",
    "same yield. \n",
    "What should you be willing to pay for the six-year bond?\n",
    "Round off your final answer to three digits after the decimal point. \n",
    "State your answer as 'x.xxx'"
   ]
  },
  {
   "cell_type": "code",
   "execution_count": 55,
   "metadata": {},
   "outputs": [
    {
     "name": "stdout",
     "output_type": "stream",
     "text": [
      "251.515318211 496.969363577 748.484681789\n"
     ]
    }
   ],
   "source": [
    "PVC = 30 * ADF (r=0.12/2,n = 6*2)\n",
    "PVF = (1000/np.power(1+0.12/2,6*2))\n",
    "print (PVC , PVF , PVC + PVF)"
   ]
  },
  {
   "cell_type": "markdown",
   "metadata": {},
   "source": [
    "Suppose that you purchased a 15-year bond that pays semi-annual coupon of 20 and is currently selling at par. \n",
    "What would your realized annual return be if you sold the bond five years later when the yield is 5.5%? \n",
    "State your answer as a percentage rate rounded to three digits after the decimal point, i.e. 'x.xxx'"
   ]
  },
  {
   "cell_type": "code",
   "execution_count": null,
   "metadata": {
    "collapsed": true
   },
   "outputs": [],
   "source": []
  }
 ],
 "metadata": {
  "kernelspec": {
   "display_name": "Python 3",
   "language": "python",
   "name": "python3"
  },
  "language_info": {
   "codemirror_mode": {
    "name": "ipython",
    "version": 3
   },
   "file_extension": ".py",
   "mimetype": "text/x-python",
   "name": "python",
   "nbconvert_exporter": "python",
   "pygments_lexer": "ipython3",
   "version": "3.6.3"
  }
 },
 "nbformat": 4,
 "nbformat_minor": 2
}
