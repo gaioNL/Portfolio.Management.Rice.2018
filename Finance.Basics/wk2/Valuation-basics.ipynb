{
 "cells": [
  {
   "cell_type": "code",
   "execution_count": 1,
   "metadata": {
    "collapsed": true
   },
   "outputs": [],
   "source": [
    "import numpy as np"
   ]
  },
  {
   "cell_type": "code",
   "execution_count": 2,
   "metadata": {
    "collapsed": true
   },
   "outputs": [],
   "source": [
    "def fv_compounding(pv,r,t):\n",
    "    #The formula for the FV of an investment earning compounding interest is:\n",
    "    #FV = I * ((1 + R) ^ T)\n",
    "    #where I is the initial investment amount, R is the interest rate and T is the number of years the investment will be held.\n",
    "    #Read more: Future Value (FV) https://www.investopedia.com/terms/f/futurevalue.asp#ixzz52rl9nPvg \n",
    "    return ( pv * ( np.power(1 + r ,t) ) )"
   ]
  },
  {
   "cell_type": "code",
   "execution_count": 3,
   "metadata": {
    "collapsed": true
   },
   "outputs": [],
   "source": [
    "def ACF(r,n):\n",
    "    return ( ( np.power(1 + r ,n) - 1) / r )"
   ]
  },
  {
   "cell_type": "code",
   "execution_count": 4,
   "metadata": {
    "collapsed": true
   },
   "outputs": [],
   "source": [
    "def ADF(r,n): \n",
    "    return ( ( 1 - np.power(1 + r ,-n)) / r )"
   ]
  },
  {
   "cell_type": "code",
   "execution_count": 5,
   "metadata": {
    "collapsed": false
   },
   "outputs": [
    {
     "name": "stdout",
     "output_type": "stream",
     "text": [
      "620.921323059\n"
     ]
    }
   ],
   "source": [
    "print (1000/np.power(1 + 0.1 ,5))"
   ]
  },
  {
   "cell_type": "code",
   "execution_count": 6,
   "metadata": {
    "collapsed": true
   },
   "outputs": [],
   "source": [
    "def zc_bond_v0(face_v,r,t):\n",
    "    return(face_v/np.power(1+r,t))"
   ]
  },
  {
   "cell_type": "code",
   "execution_count": 7,
   "metadata": {
    "collapsed": true
   },
   "outputs": [],
   "source": [
    "def c_bond_v0(face_v,cr,r,t):\n",
    "    B0 = 0\n",
    "    C = face_v * cr\n",
    "    for n in range(1,t):\n",
    "        B0 += C / np.power(1+r,n)\n",
    "    B0 += (C+face_v) / np.power(1+r,t)\n",
    "    return B0       "
   ]
  },
  {
   "cell_type": "code",
   "execution_count": 8,
   "metadata": {
    "collapsed": true
   },
   "outputs": [],
   "source": [
    "def appr_YTM(F,P,C,n):\n",
    "    return ((C+((F-P)/n))/((F+P)/2))    "
   ]
  },
  {
   "cell_type": "code",
   "execution_count": 9,
   "metadata": {
    "collapsed": true
   },
   "outputs": [],
   "source": [
    "def EAR(APR,m):\n",
    "    return (np.power(1 + APR/m,m) - 1)"
   ]
  },
  {
   "cell_type": "markdown",
   "metadata": {},
   "source": [
    "The price of a US government issued five year zero coupon bond, with a face value of $1000, is $744.09.\n",
    "What is the yield to maturity of the bond if the interest is compounded yearly? \n",
    "Round off your final answer to two digits after the decimal point. State your answer as a percentage rate (i.e. x.xx)"
   ]
  },
  {
   "cell_type": "code",
   "execution_count": 43,
   "metadata": {
    "collapsed": false
   },
   "outputs": [
    {
     "name": "stdout",
     "output_type": "stream",
     "text": [
      "0.05869192530201996\n"
     ]
    }
   ],
   "source": [
    "print(appr_YTM(1000,744.09,0,5))"
   ]
  },
  {
   "cell_type": "code",
   "execution_count": 44,
   "metadata": {
    "collapsed": false
   },
   "outputs": [
    {
     "name": "stdout",
     "output_type": "stream",
     "text": [
      "0.0609011163448\n"
     ]
    }
   ],
   "source": [
    "print(np.power(1000/744.09,1/5)-1)"
   ]
  },
  {
   "cell_type": "markdown",
   "metadata": {},
   "source": [
    "What is the market value of a 20-year bond with face value of $1000, which makes quarterly coupon payments at a coupon rate of 10%, if the required rate of return is 8% per year, compounded quarterly? \n",
    "Round off your final answer to three digits after the decimal point. State your answer as 'x.xxx'"
   ]
  },
  {
   "cell_type": "code",
   "execution_count": 46,
   "metadata": {
    "collapsed": false
   },
   "outputs": [
    {
     "name": "stdout",
     "output_type": "stream",
     "text": [
      "1198.72256796\n"
     ]
    }
   ],
   "source": [
    "print(c_bond_v0(face_v=1000,cr=0.1/4,r=0.08/4,t=20*4))"
   ]
  },
  {
   "cell_type": "markdown",
   "metadata": {},
   "source": [
    "Consider a bond, which pays 80 in annual coupon, and has a face value of 1,000. \n",
    "What is its yield to maturity if the bond has 20 years remaining until maturity and currently selling for $1,200?"
   ]
  },
  {
   "cell_type": "code",
   "execution_count": 48,
   "metadata": {
    "collapsed": false
   },
   "outputs": [
    {
     "name": "stdout",
     "output_type": "stream",
     "text": [
      "0.06363636363636363\n"
     ]
    }
   ],
   "source": [
    "print(appr_YTM(1000,1200,80,20))"
   ]
  },
  {
   "cell_type": "markdown",
   "metadata": {},
   "source": [
    "You have just purchased a newly issued 1,000 five-year Vanguard Company bond at par. \n",
    "This five-year bond pays 60 in semi-annual coupon payments (60 every six months). \n",
    "You are also considering the purchase of another Vanguard Company bond that pays 30 in semi-annual coupons and has six years remaining before maturity.\n",
    "This bond also has a face value of 1000. Both bonds make coupon payments semiannually.\n",
    "What is the yield-to-maturity on the five-year bond? State your answer as a percentage rate."
   ]
  },
  {
   "cell_type": "code",
   "execution_count": 49,
   "metadata": {
    "collapsed": false
   },
   "outputs": [
    {
     "name": "stdout",
     "output_type": "stream",
     "text": [
      "0.12\n"
     ]
    }
   ],
   "source": [
    "print(appr_YTM(1000,1000,120,5))"
   ]
  },
  {
   "cell_type": "markdown",
   "metadata": {},
   "source": [
    "Refer to back to Question 5. \n",
    "What is the effective annual yield on the five-year bond? Round off your final answer to two digits after the decimal point. State your answer as a percentage rate (i.e 'x.xx')"
   ]
  },
  {
   "cell_type": "code",
   "execution_count": 52,
   "metadata": {
    "collapsed": false
   },
   "outputs": [
    {
     "name": "stdout",
     "output_type": "stream",
     "text": [
      "0.1236\n"
     ]
    }
   ],
   "source": [
    "print (EAR(0.12,2))"
   ]
  },
  {
   "cell_type": "markdown",
   "metadata": {},
   "source": [
    "Refer back to Question 5. Assume that the five-year bond and the six-year bond have the\n",
    "same yield. \n",
    "What should you be willing to pay for the six-year bond?\n",
    "Round off your final answer to three digits after the decimal point. \n",
    "State your answer as 'x.xxx'"
   ]
  },
  {
   "cell_type": "code",
   "execution_count": 55,
   "metadata": {
    "collapsed": false
   },
   "outputs": [
    {
     "name": "stdout",
     "output_type": "stream",
     "text": [
      "251.515318211 496.969363577 748.484681789\n"
     ]
    }
   ],
   "source": [
    "PVC = 30 * ADF (r=0.12/2,n = 6*2)\n",
    "PVF = (1000/np.power(1+0.12/2,6*2))\n",
    "print (PVC , PVF , PVC + PVF)"
   ]
  },
  {
   "cell_type": "markdown",
   "metadata": {},
   "source": [
    "What would be the price of a U.S Treasury bill with a face value of $ 100,000 that has 180 days left to maturity and has a discount quote of 0.358%?"
   ]
  },
  {
   "cell_type": "code",
   "execution_count": 12,
   "metadata": {
    "collapsed": true
   },
   "outputs": [],
   "source": [
    "def t_bill_price(FV,d,D):\n",
    "    return (FV * (1 - d * (D/360)))"
   ]
  },
  {
   "cell_type": "code",
   "execution_count": 8,
   "metadata": {
    "collapsed": false
   },
   "outputs": [
    {
     "name": "stdout",
     "output_type": "stream",
     "text": [
      "99821.0\n"
     ]
    }
   ],
   "source": [
    "print (t_bill_price(FV=100000,d=0.00358,D=180))"
   ]
  },
  {
   "cell_type": "markdown",
   "metadata": {},
   "source": [
    "A 100,000 face value Treasury bill with 54 days to maturity is selling for 98,999. \n",
    "What is the yield to maturity on this security? \n",
    "Round off to two-digits after the decimal point. \n",
    "State your answer as a percentage rate (if your answer is one point two three percent, input 1.23)"
   ]
  },
  {
   "cell_type": "code",
   "execution_count": 13,
   "metadata": {
    "collapsed": true
   },
   "outputs": [],
   "source": [
    "def ytm(FV,P,t):\n",
    "    return(((FV-P)/P)* (360/t))"
   ]
  },
  {
   "cell_type": "code",
   "execution_count": 19,
   "metadata": {
    "collapsed": false
   },
   "outputs": [
    {
     "name": "stdout",
     "output_type": "stream",
     "text": [
      "0.0674080882971882\n"
     ]
    }
   ],
   "source": [
    "print(ytm(100000,98999,54))"
   ]
  },
  {
   "cell_type": "markdown",
   "metadata": {},
   "source": [
    "Refer back to question 3. \n",
    "What is the effective annual yield? \n",
    "Round off to two digits after the decimal point. \n",
    "State your answer as a percentage rate (if your answer is one point two three percent, input 1.23)"
   ]
  },
  {
   "cell_type": "code",
   "execution_count": 14,
   "metadata": {
    "collapsed": true
   },
   "outputs": [],
   "source": [
    "def eay(ytm,t):\n",
    "    return(np.power(1+ytm,360/t)-1)"
   ]
  },
  {
   "cell_type": "code",
   "execution_count": 25,
   "metadata": {
    "collapsed": false
   },
   "outputs": [
    {
     "name": "stdout",
     "output_type": "stream",
     "text": [
      "0.0693613189618\n"
     ]
    }
   ],
   "source": [
    "print(eay(0.01011,54))"
   ]
  },
  {
   "cell_type": "markdown",
   "metadata": {
    "collapsed": true
   },
   "source": [
    "What is the value of a 5-year 10% coupon bond with face value of $1000 if the yield is 4% per year? \n",
    "Assume that coupon payments are semi-annual. Round off to two digits after the decimal point. (i.e. \"x.xx\")"
   ]
  },
  {
   "cell_type": "code",
   "execution_count": 10,
   "metadata": {
    "collapsed": false
   },
   "outputs": [
    {
     "name": "stdout",
     "output_type": "stream",
     "text": [
      "1269.47755019\n"
     ]
    }
   ],
   "source": [
    "print(c_bond_v0(face_v=1000,cr=0.1/2,r=0.04/2,t=5*2))"
   ]
  },
  {
   "cell_type": "markdown",
   "metadata": {},
   "source": [
    "One of the most common money market instruments are U.S. Treasury bills. \n",
    "\n",
    "Find the price of a $10,000 face value Treasury bill with 81 days to maturity if it is quoted at a discount of 2.54 percent. \n",
    "\n",
    "Round off to two digits after the decimal point. (i.e. \"x.xx\")"
   ]
  },
  {
   "cell_type": "code",
   "execution_count": 21,
   "metadata": {
    "collapsed": false
   },
   "outputs": [
    {
     "name": "stdout",
     "output_type": "stream",
     "text": [
      "9942.85\n"
     ]
    }
   ],
   "source": [
    "print (t_bill_price(FV=10000,d=0.0254,D=81))"
   ]
  },
  {
   "cell_type": "markdown",
   "metadata": {},
   "source": [
    "Refer to Question 3. \n",
    "\n",
    "What would be your yield to maturity if you bought this Treasury at this price and kept it until maturity? \n",
    "\n",
    "Round off to two digits after the decimal. (i.e. \"x.xx\")"
   ]
  },
  {
   "cell_type": "code",
   "execution_count": 22,
   "metadata": {
    "collapsed": false
   },
   "outputs": [
    {
     "name": "stdout",
     "output_type": "stream",
     "text": [
      "0.025545995363502254\n"
     ]
    }
   ],
   "source": [
    "print (ytm(FV=10000,P=9942.85,t=81))"
   ]
  },
  {
   "cell_type": "markdown",
   "metadata": {},
   "source": [
    "Assume you have a 1-year investment horizon and trying to choose among three bonds. \n",
    "All have the same degree of default risk and mature in 10 years. \n",
    "Which of the following bonds would you choose if you expect the yields to go down to 7 percent one year \n",
    "from now after the coupon payment and want to maximize your 1-year return?\n",
    "\n",
    "\n",
    "A 9% annual coupon bond currently priced to yield 8%\n",
    "\n",
    "\n",
    "A zero-coupon bond currently priced to yield 8%\n",
    "\n",
    "\n",
    "A 6% coupon bond currently priced to yield 8%"
   ]
  },
  {
   "cell_type": "code",
   "execution_count": null,
   "metadata": {
    "collapsed": true
   },
   "outputs": [],
   "source": []
  },
  {
   "cell_type": "markdown",
   "metadata": {},
   "source": [
    "Which security has a higher effective annual rate?\n",
    "\n",
    "A Treasury bill with 89 days left to maturity selling at 97,660 with par value 100,000\n",
    "\n",
    "A coupon bond selling at par and paying 10% coupon quarterly."
   ]
  },
  {
   "cell_type": "code",
   "execution_count": 23,
   "metadata": {
    "collapsed": false
   },
   "outputs": [
    {
     "name": "stdout",
     "output_type": "stream",
     "text": [
      "0.453800459995\n"
     ]
    }
   ],
   "source": [
    "#def ytm(FV,P,t):\n",
    "#def eay(ytm,t):\n",
    "\n",
    "print(eay(ytm(100000,97660,89),89))"
   ]
  },
  {
   "cell_type": "code",
   "execution_count": null,
   "metadata": {
    "collapsed": true
   },
   "outputs": [],
   "source": []
  }
 ],
 "metadata": {
  "kernelspec": {
   "display_name": "Python 3",
   "language": "python",
   "name": "python3"
  },
  "language_info": {
   "codemirror_mode": {
    "name": "ipython",
    "version": 3
   },
   "file_extension": ".py",
   "mimetype": "text/x-python",
   "name": "python",
   "nbconvert_exporter": "python",
   "pygments_lexer": "ipython3",
   "version": "3.6.0"
  }
 },
 "nbformat": 4,
 "nbformat_minor": 2
}