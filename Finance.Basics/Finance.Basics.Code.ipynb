{
 "cells": [
  {
   "cell_type": "code",
   "execution_count": 1,
   "metadata": {
    "collapsed": true
   },
   "outputs": [],
   "source": [
    "import numpy as np"
   ]
  },
  {
   "cell_type": "code",
   "execution_count": null,
   "metadata": {
    "collapsed": true
   },
   "outputs": [],
   "source": [
    "def fv_simple(pv,r,t):\n",
    "    #If an investment earns simple interest, then the formula of Future Value is as follows:\n",
    "    #FV = I * (1 + (R * T))\n",
    "    #where I is the initial investment amount, R is the interest rate and T is the number of years the investment will be held.\n",
    "    #Read more: Future Value (FV) https://www.investopedia.com/terms/f/futurevalue.asp#ixzz52rl9nPvg \n",
    "    return ( pv * ( 1 + ( r  * t)))"
   ]
  },
  {
   "cell_type": "code",
   "execution_count": 9,
   "metadata": {
    "collapsed": true
   },
   "outputs": [],
   "source": [
    "def fv_compounding(pv,r,t):\n",
    "    #The formula for the FV of an investment earning compounding interest is:\n",
    "    #FV = I * ((1 + R) ^ T)\n",
    "    #where I is the initial investment amount, R is the interest rate and T is the number of years the investment will be held.\n",
    "    #Read more: Future Value (FV) https://www.investopedia.com/terms/f/futurevalue.asp#ixzz52rl9nPvg \n",
    "    return ( pv * ( np.power(1 + r ,t) ) )"
   ]
  },
  {
   "cell_type": "code",
   "execution_count": 7,
   "metadata": {
    "collapsed": true
   },
   "outputs": [],
   "source": [
    "def pv_discounting(fv,r,t):\n",
    "    #The formula for the PV of an investment is:\n",
    "    #PV = FV * ((1 + R) ^ -T)\n",
    "    #where FR is the future value, R is the interest rate and T is the number of years the investment will be held.\n",
    "    return ( fv * ( np.power(1 + r ,-t) ) )"
   ]
  },
  {
   "cell_type": "code",
   "execution_count": 15,
   "metadata": {
    "collapsed": true
   },
   "outputs": [],
   "source": [
    "def fv_annuity(pmt,r,t):\n",
    "    #the formula for the FV of an annuity is:\n",
    "    #FV = PMT * ( ( (1 + r)^t - 1 ) / r )  \n",
    "    return (pmt * ( ( np.power(1 + r,t) - 1 ) / r ) )"
   ]
  },
  {
   "cell_type": "code",
   "execution_count": 10,
   "metadata": {
    "collapsed": true
   },
   "outputs": [],
   "source": [
    "def pv_annuity(pmt,r,t):\n",
    "    #The formula for the present value of an ordinary annuity, as opposed to an annuity due, is as follows:\n",
    "    #P = PMT x ((1 - (1 / (1 + r) ^ n)) / r)\n",
    "    #Where:\n",
    "    #P = the present value of an annuity stream\n",
    "    #PMT = the dollar amount of each annuity payment\n",
    "    #r = the interest rate (also known as the discount rate)\n",
    "    #n = the number of periods in which payments will be made\n",
    "    #Read more: Present Value Of An Annuity https://www.investopedia.com/terms/p/present-value-annuity.asp#ixzz52rq1sgN6 \n",
    "    return (pmt *( ( 1 - (1 / np.power( 1+r,t) ) ) /r ) )"
   ]
  },
  {
   "cell_type": "markdown",
   "metadata": {},
   "source": [
    "If you invest $5000 in a CD with an interest rate of 8% per year, how much will you have at the end of 5 years? Round off your final answer to two digits after the decimal point. State your answer as \"x.xx'\""
   ]
  },
  {
   "cell_type": "code",
   "execution_count": 9,
   "metadata": {
    "collapsed": true
   },
   "outputs": [],
   "source": [
    "r = 0.08\n",
    "t_1 = 5\n",
    "v0 = 5000"
   ]
  },
  {
   "cell_type": "code",
   "execution_count": 10,
   "metadata": {},
   "outputs": [
    {
     "name": "stdout",
     "output_type": "stream",
     "text": [
      "7346.640384\n"
     ]
    }
   ],
   "source": [
    "v5 = v0 * np.power(1+r,t_1)\n",
    "print (v5)"
   ]
  },
  {
   "cell_type": "markdown",
   "metadata": {},
   "source": [
    "What is the present value of $100,000 paid at the end of ten years, if your opportunity cost is 5 percent per year? Round off your final answer to three digits after the decimal point. State your answer as \"x.xxx'"
   ]
  },
  {
   "cell_type": "code",
   "execution_count": 25,
   "metadata": {
    "collapsed": true
   },
   "outputs": [],
   "source": [
    "r = 0.05\n",
    "t_2 = 10\n",
    "v10 = 100000"
   ]
  },
  {
   "cell_type": "code",
   "execution_count": 26,
   "metadata": {},
   "outputs": [
    {
     "name": "stdout",
     "output_type": "stream",
     "text": [
      "61391.3253541\n"
     ]
    }
   ],
   "source": [
    "v010 = v10 / np.power(1+r,t_2)\n",
    "print (v010)"
   ]
  },
  {
   "cell_type": "markdown",
   "metadata": {},
   "source": [
    "If the annual interest rate is 4 percent, which one would you prefer?\n",
    "\n",
    "1.Receive $25,000 three years from now?\n",
    "\n",
    "2.Receive $18,000 one year from now?\n",
    "\n",
    "3.Receive $23,000 two years from now?"
   ]
  },
  {
   "cell_type": "code",
   "execution_count": 14,
   "metadata": {
    "collapsed": true
   },
   "outputs": [],
   "source": [
    "r3 = 0.04\n",
    "v3_1 = 25000\n",
    "v3_2 = 18000\n",
    "v3_3 = 23000"
   ]
  },
  {
   "cell_type": "code",
   "execution_count": 19,
   "metadata": {},
   "outputs": [
    {
     "name": "stdout",
     "output_type": "stream",
     "text": [
      "1 = 22224.9089668 2 = 17307.6923077 3 = 21264.7928994\n",
      "gain 1 = 2775.09103323\n",
      "gain2 = 692.307692308\n",
      "gain3 = 1735.20710059\n",
      "gain rate 1 = 0.124864\n",
      "gain rate 2 = 0.04\n",
      "gain rate 3 = 0.0816\n"
     ]
    }
   ],
   "source": [
    "v0_1 = v3_1 / np.power(1+r3,3)\n",
    "v0_2 = v3_2 / np.power(1+r3,1)\n",
    "v0_3 = v3_3 / np.power(1+r3,2)\n",
    "print (\"1 = %s 2 = %s 3 = %s\" % (str(v0_1),str(v0_2),str(v0_3)))\n",
    "print (\"gain 1 = %s\\ngain2 = %s\\ngain3 = %s\" % (str(v3_1 - v0_1),str(v3_2 - v0_2),str(v3_3 - v0_3)))\n",
    "print (\"gain rate 1 = %s\\ngain rate 2 = %s\\ngain rate 3 = %s\" % (str((v3_1 - v0_1)/v0_1),str((v3_2 - v0_2)/v0_2),str((v3_3 - v0_3)/v0_3) ))"
   ]
  },
  {
   "cell_type": "markdown",
   "metadata": {},
   "source": [
    "If your goal is to maximize your investment value at the end of five years, which option would you prefer?\n",
    "\n",
    "Investing $9,000 today at an interest rate of 3 percent per year\n",
    "\n",
    "Investing $8,000 today at an interest rate of 5 percent per year\n",
    "\n",
    "Investing $9000 today at an interest rate of 2 percent per year for two years and then at an interest rate of 4 percent per year for the last three years"
   ]
  },
  {
   "cell_type": "code",
   "execution_count": 20,
   "metadata": {
    "collapsed": true
   },
   "outputs": [],
   "source": [
    "t4 = 5\n",
    "r4_1 = 0.03\n",
    "v04_1 = 9000\n",
    "\n",
    "r4_2 = 0.05\n",
    "v04_2 = 8000\n",
    "\n",
    "t41 = 2\n",
    "r4_31 = 0.02\n",
    "v04_3 = 9000\n",
    "\n",
    "t42 = 3\n",
    "r4_32 = 0.04"
   ]
  },
  {
   "cell_type": "code",
   "execution_count": 22,
   "metadata": {},
   "outputs": [
    {
     "name": "stdout",
     "output_type": "stream",
     "text": [
      "10433.4666687\n",
      "10210.2525\n",
      "10532.7765504\n"
     ]
    }
   ],
   "source": [
    "v41 = v04_1 * np.power(1+r4_1,t4)\n",
    "v42 = v04_2 * np.power(1+r4_2,t4)\n",
    "\n",
    "v43_1 = v04_3 * np.power(1+r4_31,t41)\n",
    "v43_2 = v43_1 * np.power(1+r4_32,t42)\n",
    "\n",
    "print (v41)\n",
    "print (v42)\n",
    "print (v43_2)"
   ]
  },
  {
   "cell_type": "markdown",
   "metadata": {
    "collapsed": true
   },
   "source": [
    "Which one would you prefer?\n",
    "\n",
    "a. Receive $10,000 now\n",
    "\n",
    "b. Receive $1,000 every year for 13 years (the last payment occurs at the end of 13 years), if the interest rate is 4 percent per year.\n",
    "\n",
    "### P = PMT x ((1 - (1 / (1 + r) ^ n)) / r)\n",
    "\n",
    "Read more: Present Value Of An Annuity https://www.investopedia.com/terms/p/present-value-annuity.asp#ixzz52mU44Lo5 \n",
    "Follow us: Investopedia on Facebook\n"
   ]
  },
  {
   "cell_type": "code",
   "execution_count": 2,
   "metadata": {
    "collapsed": true
   },
   "outputs": [],
   "source": [
    "r13 = 0.04\n",
    "t13 = 13"
   ]
  },
  {
   "cell_type": "code",
   "execution_count": 12,
   "metadata": {},
   "outputs": [
    {
     "name": "stdout",
     "output_type": "stream",
     "text": [
      "9985.64784663\n"
     ]
    }
   ],
   "source": [
    "v013 = 1000 * ((1-(1/np.power(1+r13,t13)))/r13)\n",
    "print (v013)"
   ]
  },
  {
   "attachments": {
    "image.png": {
     "image/png": "[encoded data removed]"
    }
   },
   "cell_type": "markdown",
   "metadata": {},
   "source": [
    "How much would you have saved in twenty years if you save $5000 every year and can guarantee earning 6% per year? Round your final answer to three digits after the decimal. State your answer as 'x.xxx'\n",
    "\n",
    "![image.png](attachment:image.png)"
   ]
  },
  {
   "cell_type": "code",
   "execution_count": 4,
   "metadata": {
    "collapsed": true
   },
   "outputs": [],
   "source": [
    "r20 = 0.06\n",
    "t20 = 20"
   ]
  },
  {
   "cell_type": "code",
   "execution_count": 5,
   "metadata": {},
   "outputs": [
    {
     "name": "stdout",
     "output_type": "stream",
     "text": [
      "183927.956018\n"
     ]
    }
   ],
   "source": [
    "v20 = 5000 * ((np.power(1+r20,20)-1)/r20)\n",
    "print (v20)"
   ]
  },
  {
   "cell_type": "markdown",
   "metadata": {},
   "source": [
    "You are buying a new car. The car dealer gives you three financing options. If your objective is to minimize the present value of your car payments and your opportunity cost of capital is 0.5% per month, which one would you choose?\n",
    "\n",
    "\n",
    "$500 per month for 36 months\n",
    "\n",
    "\n",
    "$600 per month for 24 months\n",
    "\n",
    "\n",
    "$350 per month for 48 months\n",
    "\n",
    "### P = PMT x ((1 - (1 / (1 + r) ^ n)) / r)\n",
    "\n",
    "Read more: Present Value Of An Annuity https://www.investopedia.com/terms/p/present-value-annuity.asp#ixzz52mU44Lo5 \n",
    "Follow us: Investopedia on Facebook"
   ]
  },
  {
   "cell_type": "code",
   "execution_count": 6,
   "metadata": {
    "collapsed": true
   },
   "outputs": [],
   "source": [
    "r05 = 0.005\n",
    "c500 = 500\n",
    "t500 = 36\n",
    "\n",
    "c600 = 600\n",
    "t600 = 24\n",
    "\n",
    "c350 = 350\n",
    "t350 = 48"
   ]
  },
  {
   "cell_type": "code",
   "execution_count": 8,
   "metadata": {},
   "outputs": [
    {
     "name": "stdout",
     "output_type": "stream",
     "text": [
      "16435.5081196\n",
      "13537.7197331\n",
      "14903.111224\n"
     ]
    }
   ],
   "source": [
    "v0500 = c500 * ((1-(1/np.power(1+r05,t500)))/r05)\n",
    "print (v0500)\n",
    "\n",
    "v0600 = c600 * ((1-(1/np.power(1+r05,t600)))/r05)\n",
    "print (v0600)\n",
    "\n",
    "v0350 = c350 * ((1-(1/np.power(1+r05,t350)))/r05)\n",
    "print (v0350)"
   ]
  },
  {
   "cell_type": "markdown",
   "metadata": {},
   "source": [
    "You are buying a new house for $450,000. \n",
    "Reviewing different financing options, you have determined that you would like to minimize your monthly payment. Which financing option would you choose? Assume monthly payments over the life of the mortgage.\n",
    "\n",
    "\n",
    "30 year mortgage with annual interest rate of 3.5 percent\n",
    "\n",
    "\n",
    "20 year mortgage with an annual interest rate of 3 percent\n",
    "\n",
    "\n",
    "15 year mortgage with an annual interest rate of 2.8 percent"
   ]
  },
  {
   "cell_type": "code",
   "execution_count": 11,
   "metadata": {},
   "outputs": [
    {
     "name": "stdout",
     "output_type": "stream",
     "text": [
      "2020.70109514\n",
      "2495.68919034\n",
      "3064.51550661\n"
     ]
    }
   ],
   "source": [
    "v0_house = 450000\n",
    "t30 = 30 * 12\n",
    "r30 = 0.035/12\n",
    "\n",
    "t20 = 20 * 12\n",
    "r20 = 0.03 /12\n",
    "\n",
    "t15 = 15 * 12\n",
    "r15 = 0.028 / 12\n",
    "\n",
    "c30 = v0_house / ((1-(1/np.power(1+r30,t30)))/r30)\n",
    "c20 = v0_house / ((1-(1/np.power(1+r20,t20)))/r20)\n",
    "c15 = v0_house / ((1-(1/np.power(1+r15,t15)))/r15)\n",
    "\n",
    "print (str(c30) + '\\n' + str(c20) + '\\n' + str(c15))"
   ]
  },
  {
   "cell_type": "code",
   "execution_count": null,
   "metadata": {
    "collapsed": true
   },
   "outputs": [],
   "source": []
  }
 ],
 "metadata": {
  "kernelspec": {
   "display_name": "Python 3",
   "language": "python",
   "name": "python3"
  },
  "language_info": {
   "codemirror_mode": {
    "name": "ipython",
    "version": 3
   },
   "file_extension": ".py",
   "mimetype": "text/x-python",
   "name": "python",
   "nbconvert_exporter": "python",
   "pygments_lexer": "ipython3",
   "version": "3.6.3"
  }
 },
 "nbformat": 4,
 "nbformat_minor": 2
}
